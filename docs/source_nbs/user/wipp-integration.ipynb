{
 "cells": [
  {
   "cell_type": "markdown",
   "metadata": {
    "Collapsed": "false",
    "kernel": "SoS"
   },
   "source": [
    "# WIPP Integration"
   ]
  },
  {
   "cell_type": "markdown",
   "metadata": {
    "Collapsed": "false",
    "kernel": "SoS"
   },
   "source": [
    "## Register Notebook in WIPP\n",
    "\n",
    "Jupyter notebooks can be easily converted into WIPP plugins given input and output path variables are defined in the notebook."
   ]
  },
  {
   "cell_type": "markdown",
   "metadata": {
    "Collapsed": "false",
    "kernel": "SoS"
   },
   "source": [
    "To send notebook from Jupyter to WIPP, right-click on the notebook in the file browser and choose 'Register in WIPP'\n",
    "\n",
    "![register_in_wipp](../../img/wipp_1.png)"
   ]
  },
  {
   "cell_type": "markdown",
   "metadata": {
    "Collapsed": "false",
    "kernel": "SoS"
   },
   "source": [
    "Enter unique notebook name and some description\n",
    "\n",
    "![git_1](../../img/wipp_2.png)"
   ]
  },
  {
   "cell_type": "markdown",
   "metadata": {
    "Collapsed": "false",
    "kernel": "SoS"
   },
   "source": [
    "Click 'OK' and notebook will be added to WIPP. \n",
    "\n",
    "![git_1](../../img/wipp_3.png)"
   ]
  },
  {
   "cell_type": "markdown",
   "metadata": {
    "Collapsed": "false",
    "kernel": "SoS"
   },
   "source": [
    "## Import Image Collections from WIPP"
   ]
  },
  {
   "cell_type": "markdown",
   "metadata": {
    "Collapsed": "false",
    "kernel": "SoS"
   },
   "source": [
    "Click on the button with microscope on the left panel: this will open WIPP tab in JupyterLab. You will see the list of all available Image Collections from WIPP.\n",
    "\n",
    "If you wish to import the collection, click 'Import' button next to it. If you would like to see more information about the collection, click on its name to open collection in WIPP\n",
    "\n",
    "![git_1](../../img/wipp_4.png)"
   ]
  },
  {
   "cell_type": "markdown",
   "metadata": {
    "Collapsed": "false",
    "kernel": "SoS"
   },
   "source": [
    "If you click 'Import', a new cell will be added to the currently open notebook or console. The cell also configured to be used in Notebook plugin - when running resulting notebook as plugin `input_path` will be substituted with the input image collection in the WIPP Workflow.\n",
    "\n",
    "![git_1](../../img/wipp_5.png)"
   ]
  }
 ],
 "metadata": {
  "kernelspec": {
   "display_name": "SoS",
   "language": "sos",
   "name": "sos"
  },
  "language_info": {
   "codemirror_mode": "sos",
   "file_extension": ".sos",
   "mimetype": "text/x-sos",
   "name": "sos",
   "nbconvert_exporter": "sos_notebook.converter.SoS_Exporter",
   "pygments_lexer": "sos"
  },
  "sos": {
   "kernels": [
    [
     "SoS",
     "sos",
     "",
     ""
    ]
   ],
   "version": "0.20.2"
  }
 },
 "nbformat": 4,
 "nbformat_minor": 4
}
