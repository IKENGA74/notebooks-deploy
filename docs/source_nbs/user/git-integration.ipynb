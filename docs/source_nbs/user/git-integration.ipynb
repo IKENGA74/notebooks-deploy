{
 "cells": [
  {
   "cell_type": "markdown",
   "metadata": {
    "Collapsed": "false",
    "kernel": "SoS"
   },
   "source": [
    "# Git integration"
   ]
  },
  {
   "cell_type": "markdown",
   "metadata": {
    "Collapsed": "false",
    "kernel": "SoS"
   },
   "source": [
    "Git is a free and open source distributed version control system designed to handle everything from small to very large projects with speed and efficiency.\n",
    "\n",
    "Experienced git users may prefer to use Terminal. That option is always available alongside the UI version. The easier version for most users is the UI version (jupyterlab-git). Follow instructions below on how to use UI version. To learn more about git, go to https://git-scm.com"
   ]
  },
  {
   "cell_type": "markdown",
   "metadata": {
    "Collapsed": "false",
    "kernel": "SoS"
   },
   "source": [
    "## Git Clone\n",
    "To start working with remote git repository, you first need to clone it to JupyterLab. In the file manager, click on the 'Git Clone' button, as shown below\n",
    "\n",
    "![git_1](../../img/git_1.png)"
   ]
  },
  {
   "cell_type": "markdown",
   "metadata": {
    "Collapsed": "false",
    "kernel": "SoS"
   },
   "source": [
    "In the dialog, that opens after that, type or paste the link to your git repository. For example, if hosted on GitHub, click the green 'Clone or download' button and then copy the url to paste it to the form.\n",
    "\n",
    "![git_2](../../img/github_1.png)\n",
    "\n",
    "![git_2](../../img/git_2.png)"
   ]
  },
  {
   "cell_type": "markdown",
   "metadata": {
    "Collapsed": "false",
    "kernel": "SoS"
   },
   "source": [
    "If the repository you are trying to clone is in the private repository, you will be prompted to enter your credentials:\n",
    "\n",
    "![git_3](../../img/git_3.png)"
   ]
  },
  {
   "cell_type": "markdown",
   "metadata": {
    "Collapsed": "false",
    "kernel": "SoS"
   },
   "source": [
    "## Git Commit\n",
    "\n",
    "After you make some changes to your git repository, you may want to save your work and/or share with others. To do that, you need to first commit your changes to git. "
   ]
  },
  {
   "cell_type": "markdown",
   "metadata": {
    "Collapsed": "false",
    "kernel": "SoS"
   },
   "source": [
    "### See changes in the notebook\n",
    "\n",
    "To see the latest `diff` (new changes since the last commit), click 'git' button in the top bar as shown below:\n",
    "\n",
    "![git_4](../../img/git_4.png)"
   ]
  },
  {
   "cell_type": "markdown",
   "metadata": {
    "Collapsed": "false",
    "kernel": "SoS"
   },
   "source": [
    "You will see the output similar to one shown below:\n",
    "\n",
    "![git_5](../../img/git_5.png)\n",
    "\n",
    "Previous version is shown in red on the left and the latest version is shown in green on the right"
   ]
  },
  {
   "cell_type": "markdown",
   "metadata": {
    "Collapsed": "false",
    "kernel": "SoS"
   },
   "source": [
    "### Commit changes\n",
    "\n",
    "Click git tab in the left panel to see the list of files that have changed since the last commit\n",
    "\n",
    "![git_6](../../img/git_6.png)\n",
    "\n",
    "Click the arrow up button to add the file to a staging area for new commit _or_ click trash bin button to discard changes on that file"
   ]
  },
  {
   "cell_type": "markdown",
   "metadata": {
    "Collapsed": "false",
    "kernel": "SoS"
   },
   "source": [
    "Once you have all the files you want to stage for a new commit, type the commit message in the input field on top of the panel. After that click blue checkmark button to create a commit.\n",
    "\n",
    "![git_7](../../img/git_7.png)"
   ]
  },
  {
   "cell_type": "markdown",
   "metadata": {
    "Collapsed": "false",
    "kernel": "SoS"
   },
   "source": [
    "If you are commiting for the first time, you would be asked to type in your name and email. If commiting to Gihub, use the same name and email that you have on Github to properly attribute your commit to you.\n",
    "\n",
    "![git_8](../../img/git_8.png)"
   ]
  },
  {
   "cell_type": "markdown",
   "metadata": {
    "Collapsed": "false",
    "kernel": "SoS"
   },
   "source": [
    "### Push commit\n",
    "\n",
    "Finally, push commit to remote repository. You will be asked to type your login and password.\n",
    "\n",
    "![git_9](../../img/git_9.png)"
   ]
  }
 ],
 "metadata": {
  "kernelspec": {
   "display_name": "SoS",
   "language": "sos",
   "name": "sos"
  },
  "language_info": {
   "codemirror_mode": "sos",
   "file_extension": ".sos",
   "mimetype": "text/x-sos",
   "name": "sos",
   "nbconvert_exporter": "sos_notebook.converter.SoS_Exporter",
   "pygments_lexer": "sos"
  },
  "sos": {
   "kernels": [
    [
     "SoS",
     "sos",
     "",
     ""
    ]
   ],
   "version": "0.20.2"
  }
 },
 "nbformat": 4,
 "nbformat_minor": 4
}
